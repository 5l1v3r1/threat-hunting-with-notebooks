{
 "cells": [
  {
   "cell_type": "markdown",
   "metadata": {
    "ExecuteTime": {
     "end_time": "2019-09-13T22:41:25.320840Z",
     "start_time": "2019-09-13T22:41:25.316988Z"
    }
   },
   "source": [
    "# Open Soure Threat Intel Lookups using Requests API"
   ]
  },
  {
   "cell_type": "markdown",
   "metadata": {
    "toc": true
   },
   "source": [
    "<h1>Table of Contents<span class=\"tocSkip\"></span></h1>\n",
    "<div class=\"toc\"><ul class=\"toc-item\"><li><span><a href=\"#Open-Soure-Threat-Intel-Lookups-using-Requests-API\" data-toc-modified-id=\"Open-Soure-Threat-Intel-Lookups-using-Requests-API-1\">Open Soure Threat Intel Lookups using Requests API</a></span><ul class=\"toc-item\"><li><span><a href=\"#Description-:\" data-toc-modified-id=\"Description-:-1.1\">Description :</a></span></li><li><span><a href=\"#Import-Python-Packages\" data-toc-modified-id=\"Import-Python-Packages-1.2\">Import Python Packages</a></span></li></ul></li><li><span><a href=\"#ThreatIntel-Providers-Research\" data-toc-modified-id=\"ThreatIntel-Providers-Research-2\">ThreatIntel Providers Research</a></span><ul class=\"toc-item\"><li><span><a href=\"#TI-Feed-Summary-with-rate-limit-details\" data-toc-modified-id=\"TI-Feed-Summary-with-rate-limit-details-2.1\">TI Feed Summary with rate limit details</a></span></li><li><span><a href=\"#Supported-Providers-in-this-Notebook\" data-toc-modified-id=\"Supported-Providers-in-this-Notebook-2.2\">Supported Providers in this Notebook</a></span></li></ul></li><li><span><a href=\"#IP-Enrichments\" data-toc-modified-id=\"IP-Enrichments-3\">IP Enrichments</a></span></li><li><span><a href=\"#Threat-Intel-Lookups-from-supported-Providers\" data-toc-modified-id=\"Threat-Intel-Lookups-from-supported-Providers-4\">Threat Intel Lookups from supported Providers</a></span><ul class=\"toc-item\"><li><span><a href=\"#ThreatCrowd\" data-toc-modified-id=\"ThreatCrowd-4.1\">ThreatCrowd</a></span><ul class=\"toc-item\"><li><span><a href=\"#Inline-HTML-graph-view-from-ThreatCrowd-Site\" data-toc-modified-id=\"Inline-HTML-graph-view-from-ThreatCrowd-Site-4.1.1\">Inline HTML graph view from ThreatCrowd Site</a></span></li></ul></li><li><span><a href=\"#XForce\" data-toc-modified-id=\"XForce-4.2\">XForce</a></span></li><li><span><a href=\"#PulseDive\" data-toc-modified-id=\"PulseDive-4.3\">PulseDive</a></span></li><li><span><a href=\"#ThreatMiner\" data-toc-modified-id=\"ThreatMiner-4.4\">ThreatMiner</a></span></li><li><span><a href=\"#Dshield\" data-toc-modified-id=\"Dshield-4.5\">Dshield</a></span></li><li><span><a href=\"#Alienvault\" data-toc-modified-id=\"Alienvault-4.6\">Alienvault</a></span></li></ul></li></ul></div>"
   ]
  },
  {
   "cell_type": "markdown",
   "metadata": {},
   "source": [
    "## Description :\n",
    "Notebook is example implementaion of open source threat intel lookup using just requests API. You can also install individual python modules given in below table but using requests is more convenient. You can make it modular by declaring a ipaddress variable on the top and calling with each individual variable.  \n",
    "\n",
    "Notebook is not meant to be extensive reference and aimed for a very basic implementation. \n",
    "Have a look at Microsoft msticpy library and example TIProvider Notebook for a more structured imlementation with more features. \n",
    "\n",
    " - Library : https://pypi.org/project/msticpy/\n",
    " - TIProvider Notebook: https://nbviewer.jupyter.org/github/microsoft/msticpy/blob/master/docs/notebooks/TIProviders.ipynb"
   ]
  },
  {
   "cell_type": "markdown",
   "metadata": {},
   "source": [
    "## Import Python Packages"
   ]
  },
  {
   "cell_type": "code",
   "execution_count": 1,
   "metadata": {
    "ExecuteTime": {
     "end_time": "2019-09-14T17:09:44.253807Z",
     "start_time": "2019-09-14T17:09:43.903946Z"
    }
   },
   "outputs": [],
   "source": [
    "# Imports\n",
    "from IPython import get_ipython\n",
    "from IPython.display import display, HTML\n",
    "\n",
    "import pandas as pd\n",
    "\n",
    "import requests, json\n",
    "from requests.exceptions import HTTPError\n",
    "from requests.auth import HTTPBasicAuth"
   ]
  },
  {
   "cell_type": "markdown",
   "metadata": {},
   "source": [
    "# ThreatIntel Providers Research"
   ]
  },
  {
   "cell_type": "markdown",
   "metadata": {
    "ExecuteTime": {
     "end_time": "2019-09-14T17:08:45.368691Z",
     "start_time": "2019-09-14T17:08:45.024707Z"
    }
   },
   "source": [
    "## TI Feed Summary with rate limit details\n",
    "![title](images/OpenSourceTIFeedSummary.png)"
   ]
  },
  {
   "cell_type": "markdown",
   "metadata": {},
   "source": [
    "## Supported Providers in this Notebook\n",
    "\n",
    " - Shodan : \n",
    "     - API Registeration : https://account.shodan.io/register\n",
    " - Alienvault OTX\n",
    "    - API Registeration : https://otx.alienvault.com/api\n",
    " - IBM Xforce\n",
    "    - API Registration : https://www.ibm.com/account/reg/signup?formid=urx-30243 \n",
    " - ThreatMiner\n",
    "    - API Registration : https://threatminer.org/api.php\n",
    " - ThreatCrowd\n",
    "    - API Registration : https://github.com/AlienVault-OTX/ApiV2\n",
    " - RiskIQ\n",
    "    - API Registration : https://community.riskiq.com/registration\n",
    " - Pulsedive\n",
    "    - API Registration : https://pulsedive.com/auth/new.php\n",
    " - Censys\n",
    "    - API Registration : https://censys.io/register\n",
    " - SANS DShield\n",
    "    - API Registration : https://isc.sas.edu/api"
   ]
  },
  {
   "cell_type": "code",
   "execution_count": 2,
   "metadata": {
    "ExecuteTime": {
     "end_time": "2019-09-14T17:09:51.311751Z",
     "start_time": "2019-09-14T17:09:51.308277Z"
    }
   },
   "outputs": [],
   "source": [
    "# Fill in API Keys by registering the respective TI provider\n",
    "# Consider other secure ways to pass these values via environment variables or reading from files\n",
    "IPSTACK_API=''\n",
    "CYMON_API=''\n",
    "SHODAN_API=''\n",
    "OTX_API=''\n",
    "XFORCE_API_KEY =''\n",
    "XFORCE_API_PASSWORD=''\n",
    "RISKIQ_API = ''\n",
    "PULSEDIVE_API=''\n",
    "CENSYS_API_ID=''\n",
    "CENSYS_API_SECRET=''\n",
    "SAFEBROWSING_API=''"
   ]
  },
  {
   "cell_type": "markdown",
   "metadata": {},
   "source": [
    "# IP Enrichments"
   ]
  },
  {
   "cell_type": "code",
   "execution_count": 3,
   "metadata": {
    "ExecuteTime": {
     "end_time": "2019-09-14T17:09:53.026405Z",
     "start_time": "2019-09-14T17:09:53.017795Z"
    }
   },
   "outputs": [],
   "source": [
    "#Determine IP Address type based on IP ranges.\n",
    "def ip_type(string):\n",
    "    \"\"\" function to populate IPType category(e.g. Private/Public/Multicast)\"\"\"\n",
    "    if ip.ip_address(string).is_private:\n",
    "        return 'Private'\n",
    "    elif ip.ip_address(string).is_multicast:\n",
    "        return 'Multicast'\n",
    "    elif ip.ip_address(string).is_unspecified:\n",
    "        return 'Unspecified'\n",
    "    elif ip.ip_address(string).is_reserved:\n",
    "        return 'Reserved'\n",
    "    elif ip.ip_address(string).is_loopback:\n",
    "        return 'Loopback'\n",
    "    elif ip.ip_address(string).is_global:\n",
    "        return 'Public'\n",
    "    elif ip.ip_address(string).is_link_local:\n",
    "        return 'Link Local'\n",
    "    else:\n",
    "        return 'Unknown'"
   ]
  },
  {
   "cell_type": "markdown",
   "metadata": {},
   "source": [
    "# Threat Intel Lookups from supported Providers"
   ]
  },
  {
   "cell_type": "code",
   "execution_count": 4,
   "metadata": {
    "ExecuteTime": {
     "end_time": "2019-09-14T17:09:54.991543Z",
     "start_time": "2019-09-14T17:09:54.969441Z"
    },
    "code_folding": []
   },
   "outputs": [],
   "source": [
    "def shodan_iplookup(string):\n",
    "    \"\"\" function to IP lookup using Shodan API \"\"\"\n",
    "    API_BASE_URL=\"https://api.shodan.io/shodan/host/\"\n",
    "#     df = pd.DataFrame(columns=['TISource', 'Status', 'Category','References'])\n",
    "    try:\n",
    "        result =  requests.get(API_BASE_URL + string + \"?key=\" + SHODAN_API)\n",
    "        return result.json()\n",
    "    except HTTPError as http_err:\n",
    "        return http_err\n",
    "    except Exception as err:\n",
    "        return err\n",
    "\n",
    "def ipstack_whoislookup(ipaddress):\n",
    "    \"\"\" Perform whois Lookups on IP Address using IPStack API \"\"\"\n",
    "    filtered_fields = 'country_code,country_name,latitude,longitude'\n",
    "    api = 'http://api.ipstack.com/' + ipaddress + '?access_key=' + ipstack_access_key +'&fields='+filtered_fields \n",
    "    result = urllib.request.urlopen(api).read()\n",
    "    result = result.decode()\n",
    "    result = json.loads(result)\n",
    "\n",
    "    return result\n",
    "\n",
    "def threatcrowd_iplookup(string):\n",
    "    \"\"\" Perform whois Lookups on IP Address using Threatcrowd API \"\"\"\n",
    "    API_BASE_URL=\"https://www.threatcrowd.org/searchApi/v2/ip/report/\"\n",
    "    try:\n",
    "        result =  requests.get(API_BASE_URL, params = {\"ip\": string})\n",
    "        return result.json()\n",
    "    except HTTPError as http_err:\n",
    "        return http_err\n",
    "    except Exception as err:\n",
    "        return err\n",
    "    \n",
    "def otx_iplookup(string,path=\"v1/indicators/IPv4/\",section=\"/general\"):\n",
    "    \"\"\" Perform whois Lookups on IP Address using Alienvault OTX API \"\"\"\n",
    "    API_BASE_URL=\"https://otx.alienvault.com/api/\"\n",
    "    try:\n",
    "        result =  requests.get(API_BASE_URL+path+string+section)\n",
    "        return result.json()\n",
    "    except HTTPError as http_err:\n",
    "        return http_err\n",
    "    except Exception as err:\n",
    "        return err\n",
    "    \n",
    "def dshield_iplookup(string,outputformat=\"?json\"):\n",
    "    \"\"\" Perform whois Lookups on IP Address using SANS DShield API \"\"\"\n",
    "    API_BASE_URL=\"https://isc.sans.edu/api/ip/\"\n",
    "    try:\n",
    "        result =  requests.get(API_BASE_URL+string+outputformat)\n",
    "        return result.json()\n",
    "    except HTTPError as http_err:\n",
    "        return http_err\n",
    "    except Exception as err:\n",
    "        return err\n",
    "\n",
    "def threatminer_iplookup(string,rt=1):\n",
    "    \"\"\" Perform whois Lookups on IP Address using Threatminer API \"\"\"\n",
    "    API_BASE_URL=\"https://api.threatminer.org/v2/host.php\"\n",
    "    try:\n",
    "        result =  requests.get(API_BASE_URL,params = {\"q\": string,\"rt\":rt})\n",
    "        return result.json()\n",
    "    except HTTPError as http_err:\n",
    "        return http_err\n",
    "    except Exception as err:\n",
    "        return err\n",
    "\n",
    "def pulsedive_iplookup(string):\n",
    "    \"\"\" Perform whois Lookups on IP Address using Pulsedive API \"\"\"\n",
    "    API_BASE_URL=\"https://pulsedive.com/api/info.php\"\n",
    "    try:\n",
    "        result =  requests.get(API_BASE_URL,params = {\"indicator\": string,\"key\":PULSEDIVE_API})\n",
    "        return result.json()\n",
    "    except HTTPError as http_err:\n",
    "        return http_err\n",
    "    except Exception as err:\n",
    "        return err\n",
    "\n",
    "def censys_iplookup(string,path=\"/view/ipv4/\"):\n",
    "    \"\"\" Perform whois Lookups on IP Address using Censys API \"\"\"\n",
    "    API_BASE_URL=\"https://censys.io/api/v1\"\n",
    "    try:\n",
    "        result =  requests.get(API_BASE_URL+path+string,auth=(CENSYS_API_ID, CENSYS_API_SECRET))\n",
    "        return result.json()\n",
    "    except HTTPError as http_err:\n",
    "        return http_err\n",
    "    except Exception as err:\n",
    "        return err\n",
    "\n",
    "def riskiq_iplookup(string,path=\"/v2/enrichment\"):\n",
    "    \"\"\" Perform whois Lookups on IP Address using RiskIQ Community API \"\"\"\n",
    "    API_BASE_URL = 'https://api.passivetotal.org'\n",
    "    URL= API_BASE_URL+path+\"?query=\"+string\n",
    "    try:\n",
    "        result =  requests.get(URL, auth=(RISKIQ_USERID, RISKIQ_API))\n",
    "        return result.json()\n",
    "    except HTTPError as http_err:\n",
    "        return http_err\n",
    "    except Exception as err:\n",
    "        return err\n",
    "    \n",
    "def xforce_iplookup(string,path=\"ipr/\"):\n",
    "    \"\"\" Perform whois Lookups on IP Address using IBM Xforce API \"\"\"\n",
    "    API_BASE_URL=\"https://api.xforce.ibmcloud.com/\"\n",
    "    URL= API_BASE_URL+path+string\n",
    "    try:\n",
    "        result =  requests.get(URL, auth=HTTPBasicAuth(XFORCE_API_KEY, XFORCE_API_PASSWORD))\n",
    "        return result.json()\n",
    "    except HTTPError as http_err:\n",
    "        return http_err\n",
    "    except Exception as err:\n",
    "        return err"
   ]
  },
  {
   "cell_type": "markdown",
   "metadata": {},
   "source": [
    "## ThreatCrowd"
   ]
  },
  {
   "cell_type": "code",
   "execution_count": 5,
   "metadata": {
    "ExecuteTime": {
     "end_time": "2019-09-14T17:09:58.450202Z",
     "start_time": "2019-09-14T17:09:56.559887Z"
    }
   },
   "outputs": [
    {
     "data": {
      "text/html": [
       "<div class=\"alert alert-danger\">Match Found via Alienvault API </div>"
      ],
      "text/plain": [
       "<IPython.core.display.HTML object>"
      ]
     },
     "metadata": {},
     "output_type": "display_data"
    },
    {
     "name": "stdout",
     "output_type": "stream",
     "text": [
      "\n",
      "ThreatCrowd References:\n",
      "\n",
      "http://www.talosintelligence.com/feeds/ip-filter.blf\n",
      "https://otx.alienvault.com/pulse/56fdd2f84637f207cbcd02da/%7Chttp://rules.emergingthreats.net/blockrules/emerging-botcc.rules\n",
      "https://otx.alienvault.com/pulse/56fdd4c24637f207cacce53b/%7Chttps://zeustracker.abuse.ch/blocklist.php?downloadbadips\n",
      "\n",
      " HTML Graph can be viewed on link:\n",
      " https://www.threatcrowd.org/ip.php?ip=128.210.157.251\n"
     ]
    }
   ],
   "source": [
    "threatcrowdresults=threatcrowd_iplookup('128.210.157.251')\n",
    "\n",
    "#Code To extract essential details from raw json response\n",
    "if threatcrowdresults['response_code'] == '1' : \n",
    "    display(HTML('<div class=\"alert alert-danger\">Match Found via Alienvault API </div>'))\n",
    "    print(f\"\\nThreatCrowd References:\\n\")\n",
    "    for item in threatcrowdresults['references']: print(item)\n",
    "    print(f\"\\n HTML Graph can be viewed on link:\\n {threatcrowdresults['permalink']}\")\n",
    "else:\n",
    "    display(HTML('<div class=\"alert alert-success\">No Match Found via ThreatCrowd API </div>'))"
   ]
  },
  {
   "cell_type": "markdown",
   "metadata": {},
   "source": [
    "### Inline HTML graph view from ThreatCrowd Site"
   ]
  },
  {
   "cell_type": "code",
   "execution_count": 6,
   "metadata": {
    "ExecuteTime": {
     "end_time": "2019-09-14T17:10:00.245166Z",
     "start_time": "2019-09-14T17:10:00.241775Z"
    }
   },
   "outputs": [
    {
     "data": {
      "text/html": [
       "\n",
       "        <iframe\n",
       "            width=\"1024\"\n",
       "            height=\"760\"\n",
       "            src=\"https://www.threatcrowd.org/ip.php?ip=128.210.157.251\"\n",
       "            frameborder=\"0\"\n",
       "            allowfullscreen\n",
       "        ></iframe>\n",
       "        "
      ],
      "text/plain": [
       "<IPython.lib.display.IFrame at 0x7f16f912e828>"
      ]
     },
     "execution_count": 6,
     "metadata": {},
     "output_type": "execute_result"
    }
   ],
   "source": [
    "from IPython.display import IFrame\n",
    "IFrame(src='https://www.threatcrowd.org/ip.php?ip=128.210.157.251', width=1024, height=760)"
   ]
  },
  {
   "cell_type": "markdown",
   "metadata": {},
   "source": [
    "## XForce"
   ]
  },
  {
   "cell_type": "code",
   "execution_count": 7,
   "metadata": {
    "ExecuteTime": {
     "end_time": "2019-09-14T17:10:04.305843Z",
     "start_time": "2019-09-14T17:10:01.820912Z"
    }
   },
   "outputs": [
    {
     "data": {
      "text/html": [
       "<div class=\"alert alert-danger\"> Match Found via Xforce API </div>"
      ],
      "text/plain": [
       "<IPython.core.display.HTML object>"
      ]
     },
     "metadata": {},
     "output_type": "display_data"
    },
    {
     "name": "stdout",
     "output_type": "stream",
     "text": [
      "\n",
      " Xforce Tags or Categories Identified:\n",
      "\t{'Anonymisation Services': 43}\n",
      "\n",
      " Xforce Category Description:\n",
      "{'Anonymisation Services': 'This category contains IP addresses of Web proxies (websites that allow the user to anonymously view websites). Furthermore, IP addresses are listed that can be used directly to surf anonymously (e.g. by adding them to the browser configuration).'}\n"
     ]
    }
   ],
   "source": [
    "xforceresults=xforce_iplookup(\"192.64.119.63\")\n",
    "\n",
    "#Code To extract essential details from raw json response\n",
    "if len(xforceresults['cats']) > 0 : \n",
    "    display(HTML('<div class=\"alert alert-danger\"> Match Found via Xforce API </div>'))\n",
    "    print(f\"\\n Xforce Tags or Categories Identified:\\n\\t{xforceresults['cats']}\")\n",
    "    print(f\"\\n Xforce Category Description:\\n{xforceresults['categoryDescriptions']}\")\n",
    "else:\n",
    "    display(HTML('<div class=\"alert alert-success\">No Match Found via Xforce API </div>'))"
   ]
  },
  {
   "cell_type": "markdown",
   "metadata": {},
   "source": [
    "## PulseDive"
   ]
  },
  {
   "cell_type": "code",
   "execution_count": 8,
   "metadata": {
    "ExecuteTime": {
     "end_time": "2019-09-14T17:10:06.250372Z",
     "start_time": "2019-09-14T17:10:05.856800Z"
    }
   },
   "outputs": [
    {
     "data": {
      "text/html": [
       "<div class=\"alert alert-danger\"> Match Found via Pulsedive API </div>"
      ],
      "text/plain": [
       "<IPython.core.display.HTML object>"
      ]
     },
     "metadata": {},
     "output_type": "display_data"
    },
    {
     "name": "stdout",
     "output_type": "stream",
     "text": [
      "3 Threats Idenfied\n",
      "\n",
      " PulseDive Tags or Categories Identified:\n",
      "malware\n",
      "phishing\n",
      "malware\n",
      "\n",
      " PulseDive Category Description:\n",
      "Banjori\n",
      "Phishing\n",
      "Suppobox\n",
      "\n",
      " PulseDive Feed Names:\n",
      "C&C IPs\n",
      "ZeroDot1's Bad IPs Feed\n"
     ]
    }
   ],
   "source": [
    "pulsediveresults=pulsedive_iplookup(\"192.64.119.63\")\n",
    "\n",
    "#Code To extract essential details from raw json response\n",
    "if len(pulsediveresults['threats']) > 0 : \n",
    "    display(HTML('<div class=\"alert alert-danger\"> Match Found via Pulsedive API </div>'))\n",
    "    print(f\"{len(pulsediveresults['threats'])} Threats Idenfied\")\n",
    "    print(f\"\\n PulseDive Tags or Categories Identified:\")\n",
    "    for item in pulsediveresults['threats']:print(item['category'])\n",
    "    print(f\"\\n PulseDive Category Description:\")\n",
    "    for item in pulsediveresults['threats']:print(item['name'])\n",
    "    print(f\"\\n PulseDive Feed Names:\")\n",
    "    for item in pulsediveresults['feeds']:print(item['name'])\n",
    "else:\n",
    "    display(HTML('<div class=\"alert alert-success\">No Match Found via Pulsedive API </div>'))"
   ]
  },
  {
   "cell_type": "markdown",
   "metadata": {},
   "source": [
    "## ThreatMiner"
   ]
  },
  {
   "cell_type": "code",
   "execution_count": 9,
   "metadata": {
    "ExecuteTime": {
     "end_time": "2019-09-14T17:10:12.255318Z",
     "start_time": "2019-09-14T17:10:11.809804Z"
    }
   },
   "outputs": [
    {
     "data": {
      "text/html": [
       "<div class=\"alert alert-danger\">Match Found via ThreatMiner API </div>"
      ],
      "text/plain": [
       "<IPython.core.display.HTML object>"
      ]
     },
     "metadata": {},
     "output_type": "display_data"
    },
    {
     "name": "stdout",
     "output_type": "stream",
     "text": [
      "6 References Idenfied\n",
      "\n",
      " ThreatMiner File along with URL References:\n",
      "\n",
      "FileName Reference:\tArea-1-Security-OperationDoos-IRN2TargetsSaudiArabianOilandGasIndustryWithCareer-ThemedPhishingAttack.pdf\n",
      "URL Reference :\thttps://www.threatminer.org/report.php?q=Area-1-Security-OperationDoos-IRN2TargetsSaudiArabianOilandGasIndustryWithCareer-ThemedPhishingAttack.pdf&y=2018\n",
      "FileName Reference:\tArea-1-Security-OperationDoos-IRN2TargetsSaudiArabianOilandGasIndustryWithCareer-ThemedPhishingAttack.pdf\n",
      "URL Reference :\thttps://www.threatminer.org/report.php?q=Area-1-Security-OperationDoos-IRN2TargetsSaudiArabianOilandGasIndustryWithCareer-ThemedPhishingAttack.pdf&y=2018\n",
      "FileName Reference:\tDNSTunnelingintheWild_OverviewofOilRig’sDNSTunneling.pdf\n",
      "URL Reference :\thttps://www.threatminer.org/report.php?q=DNSTunnelingintheWild_OverviewofOilRig’sDNSTunneling.pdf&y=2019\n",
      "FileName Reference:\tTheOilRigCampaign_AttacksonSaudiArabianOrganizationsDeliverHelminthBackdoor-PaloAltoNetworksBlogPaloAltoNetworksBlog.pdf\n",
      "URL Reference :\thttps://www.threatminer.org/report.php?q=TheOilRigCampaign_AttacksonSaudiArabianOrganizationsDeliverHelminthBackdoor-PaloAltoNetworksBlogPaloAltoNetworksBlog.pdf&y=2016\n",
      "FileName Reference:\tDNSTunnelingintheWild_OverviewofOilRig’sDNSTunneling.pdf\n",
      "URL Reference :\thttps://www.threatminer.org/report.php?q=DNSTunnelingintheWild_OverviewofOilRig’sDNSTunneling.pdf&y=2019\n",
      "FileName Reference:\tTheOilRigCampaign_AttacksonSaudiArabianOrganizationsDeliverHelminthBackdoor-PaloAltoNetworksBlogPaloAltoNetworksBlog.pdf\n",
      "URL Reference :\thttps://www.threatminer.org/report.php?q=TheOilRigCampaign_AttacksonSaudiArabianOrganizationsDeliverHelminthBackdoor-PaloAltoNetworksBlogPaloAltoNetworksBlog.pdf&y=2016\n"
     ]
    }
   ],
   "source": [
    "threatminerresults=threatminer_iplookup(\"35.35.35.35\",rt=6)\n",
    "\n",
    "#Code To extract essential details from raw json response\n",
    "if threatminerresults['status_message'] == 'Results found.': \n",
    "    display(HTML('<div class=\"alert alert-danger\">Match Found via ThreatMiner API </div>'))\n",
    "    print(f\"{len(threatminerresults['results'])} References Idenfied\")\n",
    "    print(f\"\\n ThreatMiner File along with URL References:\\n\")\n",
    "    for item in threatminerresults['results']:print(\"FileName Reference:\\t\"+item['filename']+ \"\\nURL Reference :\\t\"+item['URL'])\n",
    "else:\n",
    "     display(HTML('<div class=\"alert alert-success\">No Match Found via ThreatMiner API </div>'))"
   ]
  },
  {
   "cell_type": "markdown",
   "metadata": {},
   "source": [
    "## Dshield"
   ]
  },
  {
   "cell_type": "code",
   "execution_count": 10,
   "metadata": {
    "ExecuteTime": {
     "end_time": "2019-09-14T17:10:14.274733Z",
     "start_time": "2019-09-14T17:10:13.605979Z"
    }
   },
   "outputs": [
    {
     "data": {
      "text/html": [
       "<div class=\"alert alert-danger\">Match Found via DShield API </div>"
      ],
      "text/plain": [
       "<IPython.core.display.HTML object>"
      ]
     },
     "metadata": {},
     "output_type": "display_data"
    },
    {
     "name": "stdout",
     "output_type": "stream",
     "text": [
      "1 ThreatFeeds Idenfied\n",
      "\n",
      " Dshield ThreatFeeds Results:\n",
      " {'zeuscc': {'lastseen': '2019-07-08', 'firstseen': '2013-09-29'}}\n"
     ]
    }
   ],
   "source": [
    "dshieldresults=dshield_iplookup(\"128.210.157.251\")\n",
    "\n",
    "#Code To extract essential details from raw json response\n",
    "if 'threatfeeds' in dshieldresults['ip'].keys(): \n",
    "    display(HTML('<div class=\"alert alert-danger\">Match Found via DShield API </div>'))\n",
    "    print(f\"{len(dshieldresults['ip']['threatfeeds'])} ThreatFeeds Idenfied\")\n",
    "    print(f\"\\n Dshield ThreatFeeds Results:\\n {dshieldresults['ip']['threatfeeds']}\")\n",
    "else:\n",
    "    display(HTML('<div class=\"alert alert-success\">No Match Found via DShiled API </div>'))"
   ]
  },
  {
   "cell_type": "markdown",
   "metadata": {},
   "source": [
    "## Alienvault"
   ]
  },
  {
   "cell_type": "code",
   "execution_count": 11,
   "metadata": {
    "ExecuteTime": {
     "end_time": "2019-09-14T17:10:16.011385Z",
     "start_time": "2019-09-14T17:10:15.600625Z"
    }
   },
   "outputs": [
    {
     "data": {
      "text/html": [
       "<div class=\"alert alert-danger\">Match Found via Alienvault API</div>"
      ],
      "text/plain": [
       "<IPython.core.display.HTML object>"
      ]
     },
     "metadata": {},
     "output_type": "display_data"
    },
    {
     "name": "stdout",
     "output_type": "stream",
     "text": [
      "2 Pulses Idenfied\n",
      "\n",
      "Alienvault Tags identified:\n",
      "Tags idenfied [] from Locky Ransomware C2 IP blocklist (LY_C2_IPBL)\n",
      "Tags idenfied ['ransomware'] from Ransomware IP Blocklist 3/21/2019\n",
      "\n",
      "References identified:\n",
      "[]\n",
      "['https://ransomwaretracker.abuse.ch/downloads/RW_IPBL.txt']\n"
     ]
    }
   ],
   "source": [
    "otxresults=otx_iplookup('109.248.222.47')\n",
    "\n",
    "#Code To extract essential details from raw json response\n",
    "if 'pulse_info' in otxresults.keys(): \n",
    "    display(HTML('<div class=\"alert alert-danger\">Match Found via Alienvault API</div>'))\n",
    "#     print(\"Match Found via Alienvault API\")\n",
    "    print(f\"{len(otxresults['pulse_info']['pulses'])} Pulses Idenfied\")\n",
    "    print(f\"\\nAlienvault Tags identified:\")\n",
    "    for item in otxresults['pulse_info']['pulses']: print(f\"Tags idenfied {item['tags']} from {item['name']}\") \n",
    "    print(f\"\\nReferences identified:\")\n",
    "    for item in otxresults['pulse_info']['pulses']: print(item['references'])\n",
    "else:\n",
    "    display(HTML('<div class=\"alert alert-success\">No Match Found via Alienvault API </div>'))"
   ]
  },
  {
   "cell_type": "code",
   "execution_count": 12,
   "metadata": {
    "ExecuteTime": {
     "end_time": "2019-09-14T17:10:17.136314Z",
     "start_time": "2019-09-14T17:10:16.798663Z"
    }
   },
   "outputs": [
    {
     "data": {
      "text/html": [
       "<div class=\"alert alert-success\">No Match Found via Alienvault API </div>"
      ],
      "text/plain": [
       "<IPython.core.display.HTML object>"
      ]
     },
     "metadata": {},
     "output_type": "display_data"
    }
   ],
   "source": [
    "otxresults=otx_iplookup('192.168.168.81')\n",
    "\n",
    "#Code To extract essential details from raw json response\n",
    "if 'pulse_info' in otxresults.keys(): \n",
    "    display(HTML('<div class=\"alert alert-danger\">Match Found via Alienvault API</div>'))\n",
    "#     print(\"Match Found via Alienvault API\")\n",
    "    print(f\"{len(otxresults['pulse_info']['pulses'])} Pulses Idenfied\")\n",
    "    print(f\"\\nAlienvault Tags identified:\")\n",
    "    for item in otxresults['pulse_info']['pulses']: print(f\"Tags idenfied {item['tags']} from {item['name']}\") \n",
    "    print(f\"\\nReferences identified:\")\n",
    "    for item in otxresults['pulse_info']['pulses']: print(item['references'])\n",
    "else:\n",
    "    display(HTML('<div class=\"alert alert-success\">No Match Found via Alienvault API </div>'))"
   ]
  }
 ],
 "metadata": {
  "kernelspec": {
   "display_name": "Python 3",
   "language": "python",
   "name": "python3"
  },
  "language_info": {
   "codemirror_mode": {
    "name": "ipython",
    "version": 3
   },
   "file_extension": ".py",
   "mimetype": "text/x-python",
   "name": "python",
   "nbconvert_exporter": "python",
   "pygments_lexer": "ipython3",
   "version": "3.7.3"
  },
  "toc": {
   "base_numbering": 1,
   "nav_menu": {},
   "number_sections": false,
   "sideBar": true,
   "skip_h1_title": false,
   "title_cell": "Table of Contents",
   "title_sidebar": "Contents",
   "toc_cell": true,
   "toc_position": {},
   "toc_section_display": true,
   "toc_window_display": true
  },
  "varInspector": {
   "cols": {
    "lenName": 16,
    "lenType": 16,
    "lenVar": 40
   },
   "kernels_config": {
    "python": {
     "delete_cmd_postfix": "",
     "delete_cmd_prefix": "del ",
     "library": "var_list.py",
     "varRefreshCmd": "print(var_dic_list())"
    },
    "r": {
     "delete_cmd_postfix": ") ",
     "delete_cmd_prefix": "rm(",
     "library": "var_list.r",
     "varRefreshCmd": "cat(var_dic_list()) "
    }
   },
   "types_to_exclude": [
    "module",
    "function",
    "builtin_function_or_method",
    "instance",
    "_Feature"
   ],
   "window_display": false
  }
 },
 "nbformat": 4,
 "nbformat_minor": 2
}
