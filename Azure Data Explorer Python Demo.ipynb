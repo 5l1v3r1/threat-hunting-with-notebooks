{
 "cells": [
  {
   "cell_type": "markdown",
   "metadata": {},
   "source": [
    "### Exploratory Data Analysis on Windows Logon Data\n",
    "\n",
    "** Objective: **\n",
    "\n",
    "The dataset is used for this analysis is especially failed windows logon data. \n",
    "<br>Demo is focussed to introduce basic data analysis in python against log data source and plotting visualization to find abnormalities in the trend\n",
    "\n",
    "**** Investigation :  ****\n",
    " - Analyze and indentify any inconsistency in failed logon trend\n",
    " - Find the user and check what has changed in failed logon trend\n",
    " - Investigate further activity from the user and hosts in scope before and after trend changes"
   ]
  },
  {
   "cell_type": "markdown",
   "metadata": {},
   "source": [
    "## Global Parameters to Configure (TimeStamp, Host, User for Investigation)"
   ]
  },
  {
   "cell_type": "code",
   "execution_count": 2,
   "metadata": {},
   "outputs": [],
   "source": [
    "FilteredComputer=\"WIN-DC01\"\n",
    "FilteredAccount = \"SRVACCNT-01\"\n",
    "startdate = 'ago(10d)'\n",
    "#startdate= '\\'2018-01-01\\''\n",
    "enddate = 'now()'\n",
    "#enddate= '\\'2018-01-15\\''"
   ]
  },
  {
   "cell_type": "markdown",
   "metadata": {},
   "source": [
    "## Connection to Log Data Source (Python Authentication)\n",
    "Reference Blog Post on query data using Azure Data Explorer Python library: \n",
    "<br>https://docs.microsoft.com/en-us/azure/data-explorer/python-query-data\n",
    "\n",
    "### Install the data library:\n",
    "> `pip install azure-kusto-data`\n",
    "\n",
    "### Libraries for Popular Log management/SIEM products\n",
    "> **Splunk** : `pip install splunk-sdk`\n",
    "<br>http://dev.splunk.com/python\n",
    "\n",
    "> **Elasticsearch** : `pip install elasticsearch`\n",
    "<br>https://elasticsearch-py.readthedocs.io/en/master/\n",
    "\n",
    "> **HuntLib** : `pip install huntlib`\n",
    "    <br>Common threat hunting data analysis operations : https://github.com/target/huntlib\n",
    "    <br>The `huntlib` module provides two major object classes as well as a few convenience functions.\n",
    "    <br>**ElasticDF**: Search Elastic and return results as a Pandas DataFrame\n",
    "    <br>**SplunkDF**: Search Splunk and return results as a Pandas DataFrame\n",
    "    <br>**entropy() / entropy_per_byte()**: Calculate Shannon entropy\n",
    "    <br>**promptCreds()**: Prompt for login credentials in the terminal or from within a Jupyter notebook.\n",
    "    <br>**edit_distance()**: Calculate how \"different\" two strings are from each other\n",
    "\n",
    "\n",
    "### Possible ways to retrieve credentials:\n",
    "> Store and read from environment variable after activating conda environment\n",
    "> <br>Store and read from static config file from filesystem which will be under auditing\n",
    "> <br>Store and read from Secret vault or other password stores using certificate based access\n",
    "> <br>Prompt user the password and store value until the session/kernel shutdonw\n"
   ]
  },
  {
   "cell_type": "code",
   "execution_count": 26,
   "metadata": {},
   "outputs": [],
   "source": [
    "# importing kusto libraries\n",
    "from azure.kusto.data.request import KustoClient, KustoConnectionStringBuilder\n",
    "from azure.kusto.data.exceptions import KustoServiceError\n",
    "from azure.kusto.data.helpers import dataframe_from_result_table\n",
    "\n",
    "\n",
    "######################################################\n",
    "##              AUTHENTICATION                      ##\n",
    "######################################################\n",
    "\n",
    "# Provide values respective to your cluster configuration\n",
    "cluster = \"<insert here your cluster name>\"\n",
    "client_id = \"<insert here your AAD application id>\"\n",
    "client_secret = \"<insert here your AAD application key>\"\n",
    "authority_id = \"<insert here your AAD tenet id>\"\n",
    "database = \"<insert here your database name>\"\n",
    "\n",
    "#making kusto connection string builder client\n",
    "kcsb = KustoConnectionStringBuilder.with_aad_application_key_authentication(\n",
    "    cluster, client_id, client_secret, authority_id\n",
    ")\n",
    "client = KustoClient(kcsb)"
   ]
  },
  {
   "cell_type": "markdown",
   "metadata": {},
   "source": [
    "### Importing python libraries and set global styling parameters"
   ]
  },
  {
   "cell_type": "code",
   "execution_count": 4,
   "metadata": {},
   "outputs": [],
   "source": [
    "%matplotlib inline\n",
    "\n",
    "import matplotlib\n",
    "import pandas as pd\n",
    "import numpy as np\n",
    "import matplotlib.pyplot as plt\n",
    "import seaborn as sns; sns.set()\n",
    "pd.set_option('display.max_colwidth', -1)"
   ]
  },
  {
   "cell_type": "code",
   "execution_count": 1,
   "metadata": {},
   "outputs": [],
   "source": [
    "#sample query against log data source\n",
    "winlogonquery = '''\n",
    "windowslogons \n",
    "| where startdate < {} and enddate > {}\n",
    "| where EventId == \"Microsoft-Windows-Security-Auditing:4625\"\n",
    "| summarize LogonCount=count(),SourceCount=dcount(sourceAddress), HostCount=dcount(destinationAddress) by AccountName,Date\n",
    "'''\n",
    "#Formatting Query String to pass global arguments and also replace newline characters\n",
    "winlogonquery= winlogonquery.format(enddate,startdate).replace('\\n', '')\n",
    "#executing query against the database using client object\n",
    "response = client.execute(database, winlogonquery)\n",
    "#creating dataframe from result table\n",
    "winlogonquery_df = dataframe_from_result_table(response.primary_results[0])"
   ]
  },
  {
   "cell_type": "markdown",
   "metadata": {},
   "source": [
    "### Printing Dataset schema"
   ]
  },
  {
   "cell_type": "code",
   "execution_count": 15,
   "metadata": {},
   "outputs": [
    {
     "name": "stdout",
     "output_type": "stream",
     "text": [
      "<class 'pandas.core.frame.DataFrame'>\n",
      "RangeIndex: 41 entries, 0 to 40\n",
      "Data columns (total 5 columns):\n",
      "Date           41 non-null object\n",
      "AccountName    41 non-null object\n",
      "HostCount      41 non-null int64\n",
      "SourceCount    41 non-null int64\n",
      "LogonCount     41 non-null int64\n",
      "dtypes: int64(3), object(2)\n",
      "memory usage: 1.7+ KB\n"
     ]
    }
   ],
   "source": [
    "winlogonquery_df.info()"
   ]
  },
  {
   "cell_type": "markdown",
   "metadata": {},
   "source": [
    "### Printing Sample dataset"
   ]
  },
  {
   "cell_type": "code",
   "execution_count": 21,
   "metadata": {},
   "outputs": [
    {
     "data": {
      "text/html": [
       "<div>\n",
       "<style scoped>\n",
       "    .dataframe tbody tr th:only-of-type {\n",
       "        vertical-align: middle;\n",
       "    }\n",
       "\n",
       "    .dataframe tbody tr th {\n",
       "        vertical-align: top;\n",
       "    }\n",
       "\n",
       "    .dataframe thead th {\n",
       "        text-align: right;\n",
       "    }\n",
       "</style>\n",
       "<table border=\"1\" class=\"dataframe\">\n",
       "  <thead>\n",
       "    <tr style=\"text-align: right;\">\n",
       "      <th></th>\n",
       "      <th>Date</th>\n",
       "      <th>AccountName</th>\n",
       "      <th>HostCount</th>\n",
       "      <th>SourceCount</th>\n",
       "      <th>LogonCount</th>\n",
       "    </tr>\n",
       "  </thead>\n",
       "  <tbody>\n",
       "    <tr>\n",
       "      <th>0</th>\n",
       "      <td>3/28/2018</td>\n",
       "      <td>ASHWIN</td>\n",
       "      <td>263</td>\n",
       "      <td>327</td>\n",
       "      <td>46448</td>\n",
       "    </tr>\n",
       "    <tr>\n",
       "      <th>1</th>\n",
       "      <td>3/29/2018</td>\n",
       "      <td>ASHWIN</td>\n",
       "      <td>230</td>\n",
       "      <td>320</td>\n",
       "      <td>46379</td>\n",
       "    </tr>\n",
       "    <tr>\n",
       "      <th>2</th>\n",
       "      <td>3/30/2018</td>\n",
       "      <td>ASHWIN</td>\n",
       "      <td>245</td>\n",
       "      <td>352</td>\n",
       "      <td>44951</td>\n",
       "    </tr>\n",
       "    <tr>\n",
       "      <th>3</th>\n",
       "      <td>3/31/2018</td>\n",
       "      <td>ASHWIN</td>\n",
       "      <td>261</td>\n",
       "      <td>343</td>\n",
       "      <td>44347</td>\n",
       "    </tr>\n",
       "    <tr>\n",
       "      <th>4</th>\n",
       "      <td>4/1/2018</td>\n",
       "      <td>ASHWIN</td>\n",
       "      <td>226</td>\n",
       "      <td>289</td>\n",
       "      <td>44971</td>\n",
       "    </tr>\n",
       "  </tbody>\n",
       "</table>\n",
       "</div>"
      ],
      "text/plain": [
       "        Date AccountName  HostCount  SourceCount  LogonCount\n",
       "0  3/28/2018  ASHWIN      263        327          46448     \n",
       "1  3/29/2018  ASHWIN      230        320          46379     \n",
       "2  3/30/2018  ASHWIN      245        352          44951     \n",
       "3  3/31/2018  ASHWIN      261        343          44347     \n",
       "4  4/1/2018   ASHWIN      226        289          44971     "
      ]
     },
     "execution_count": 21,
     "metadata": {},
     "output_type": "execute_result"
    }
   ],
   "source": [
    "winlogonquery_df.head(5)"
   ]
  },
  {
   "cell_type": "markdown",
   "metadata": {},
   "source": [
    "# <font color=orange>Plotting HeatMap for failed logons using seaborn library</font>"
   ]
  },
  {
   "cell_type": "code",
   "execution_count": 17,
   "metadata": {},
   "outputs": [
    {
     "data": {
      "image/png": "[encoded data removed]",
      "text/plain": [
       "<matplotlib.figure.Figure at 0x7f034e2d8390>"
      ]
     },
     "metadata": {},
     "output_type": "display_data"
    }
   ],
   "source": [
    "failedlogons_ph = winlogonquery_df.pivot(index='Date', columns='AccountName', values='LogonCount').fillna(0)\n",
    "f, ax = plt.subplots(figsize=(16, 12))\n",
    "hm1 = sns.heatmap(failedlogons_ph.T,cmap=\"YlGnBu\",ax=ax)"
   ]
  },
  {
   "cell_type": "markdown",
   "metadata": {},
   "source": [
    "# <font color=orange>Plotting Scatterplot for failed logons using seaborn library</font>"
   ]
  },
  {
   "cell_type": "code",
   "execution_count": 20,
   "metadata": {},
   "outputs": [
    {
     "data": {
      "text/plain": [
       "<seaborn.axisgrid.FacetGrid at 0x7f0344a754e0>"
      ]
     },
     "execution_count": 20,
     "metadata": {},
     "output_type": "execute_result"
    },
    {
     "data": {
      "image/png": "[encoded data removed]",
      "text/plain": [
       "<matplotlib.figure.Figure at 0x7f0344a75780>"
      ]
     },
     "metadata": {},
     "output_type": "display_data"
    }
   ],
   "source": [
    "sns.lmplot(x='HostCount', y='SourceCount', data=winlogonquery_df,\n",
    "fit_reg=False,hue='AccountName', size=6, aspect=2)"
   ]
  },
  {
   "cell_type": "markdown",
   "metadata": {},
   "source": [
    "### Observations:\n",
    "\n",
    "There is inconsistent faied logons observed with account `SRVACCNT-01` and `SRVACCNT-02` which can be further investigated for any possible successful bruteforce activity.\n",
    "- From the heatmaps, high number of failed logons were observed in first 4-6 days for 2 accounts and later it significantly reduced.  \n",
    "- Scatterplot also shows for `SRVACCNT-01` and `SRVACCNT-02` , failed logons were observed from high number of source addresses as compared to other accounts or for same accounts for the period of 7 days.\n",
    "\n",
    "### Next Steps:\n",
    " - Investigate the the accounts- `SRVACCNT01` and `SRVACCNT-02`.\n",
    " - Load the logon activity for both accounts prior and after the logon trend change. you can have parameterized query for the accounts against logondataset to pull and display the details.\n",
    " - Check the succesful logons observed from the accounts and investigate activity observed from the accounts for any suspicious activities e.g. process execution, group changes, scheduled tasks, service installations etc. This can also be achieved with follow-up query for all events observed from the accounts for the mentioned days in next cell.\n",
    " - Based on the displayed cells output investigation, you can conclude if it is malicious activity or not."
   ]
  }
 ],
 "metadata": {
  "kernelspec": {
   "display_name": "Python [conda env:py35]",
   "language": "python",
   "name": "conda-env-py35-py"
  },
  "language_info": {
   "codemirror_mode": {
    "name": "ipython",
    "version": 3
   },
   "file_extension": ".py",
   "mimetype": "text/x-python",
   "name": "python",
   "nbconvert_exporter": "python",
   "pygments_lexer": "ipython3",
   "version": "3.5.4"
  }
 },
 "nbformat": 4,
 "nbformat_minor": 2
}
