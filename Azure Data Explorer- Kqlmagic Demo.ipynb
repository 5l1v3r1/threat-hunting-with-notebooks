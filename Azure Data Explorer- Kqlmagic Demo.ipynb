{
 "cells": [
  {
   "cell_type": "markdown",
   "metadata": {},
   "source": [
    "### Exploratory Data Analysis on Windows Failed Logon Data\n",
    "\n",
    "** Objective: **\n",
    "\n",
    "The dataset is used for this analysis is failed windows logon data. \n",
    "<br>Demo is focussed to introduce basic data analysis in python against log data source and plotting visualization to find abnormalities in the trend. The log sample used is a very small subset of logon customized to show some abnormality\n",
    "\n",
    "**** Investigation :  ****\n",
    " - Analyze and indentify any inconsistency in failed logon trend\n",
    " - Find the user and check what has changed in failed logon trend\n",
    " - Investigate further activity from the user and hosts in scope before and after trend changes"
   ]
  },
  {
   "cell_type": "markdown",
   "metadata": {},
   "source": [
    "## Global Parameters to Configure (TimeStamp/Host, User for Investigation)"
   ]
  },
  {
   "cell_type": "code",
   "execution_count": 1,
   "metadata": {},
   "outputs": [],
   "source": [
    "FilteredComputer=\"WIN-DC01\"\n",
    "FilteredAccount = \"SRVACCNT-01\"\n",
    "from datetime import datetime, timedelta\n",
    "start_datetime = timedelta(days=10)\n",
    "end_datetime = timedelta(days=1)\n",
    "my_timespan = timedelta(hours=8)"
   ]
  },
  {
   "cell_type": "markdown",
   "metadata": {},
   "source": [
    "## Connection to Log Data Source (Python Authentication)\n",
    "**Kqlmagic Jupyter Extension**: Enables notebook experience, exploring Microsoft Azure Monitor data: Azure Data Explorer (Kusto), ApplicationInsights, and LogAnalytics data, from Jupyter notebook (Python3 kernel), using kql (Kusto Query language).\n",
    "<br>https://pypi.org/project/Kqlmagic/\n",
    "\n",
    "### Install the kqlmagic library\n",
    "> `!pip install Kqlmagic --no-cache-dir --upgrade`\n",
    "\n",
    "### Reference Usage Notebooks\n",
    "<br>[Get Started with Kqlmagic for Kusto notebook](https://mybinder.org/v2/gh/Microsoft/jupyter-Kqlmagic/master?filepath=notebooks%2FQuickStart.ipynb)\n",
    "<br>[Parametrize your Kqlmagic query with Python notebook.](https://mybinder.org/v2/gh/Microsoft/jupyter-Kqlmagic/master?filepath=notebooks%2FParametrizeYourQuery.ipynb)"
   ]
  },
  {
   "cell_type": "code",
   "execution_count": 2,
   "metadata": {
    "scrolled": true
   },
   "outputs": [
    {
     "data": {
      "text/html": [
       "<html>\n",
       "            <head>\n",
       "            <style>\n",
       "            .kql-magic-banner {\n",
       "                display: flex; \n",
       "                background-color: #d9edf7;\n",
       "            }\n",
       "            .kql-magic-banner > div {\n",
       "                margin: 10px; \n",
       "                padding: 20px; \n",
       "                color: #3a87ad; \n",
       "                font-size: 13px;\n",
       "            }\n",
       "            </style>\n",
       "            </head>\n",
       "            <body>\n",
       "                <div class='kql-magic-banner'>\n",
       "                    <div><img src='data:image/png;base64,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'></div>\n",
       "                    <div>\n",
       "                        <p>Kql Query Language, aka kql, is the query language for advanced analytics on Azure Monitor resources. The current supported data sources are \n",
       "                        Azure Data Explorer (Kusto), Log Analytics and Application Insights. To get more information execute '%kql --help \"kql\"'</p>\n",
       "                        <p>   &bull; kql reference: Click on 'Help' tab > and Select 'kql referece' or execute '%kql --help \"kql\"'<br>\n",
       "                          &bull; Kqlmagic configuarion: execute '%config Kqlmagic'<br>\n",
       "                          &bull; Kqlmagic usage: execute '%kql --usage'<br>\n",
       "                    </div>\n",
       "                </div>\n",
       "            </body>\n",
       "            </html>"
      ],
      "text/plain": [
       "<IPython.core.display.HTML object>"
      ]
     },
     "metadata": {},
     "output_type": "display_data"
    },
    {
     "data": {
      "text/html": [
       "<html>\n",
       "        <head>\n",
       "        \n",
       "        </head>\n",
       "        <body>\n",
       "        <div><p style='padding: 10px; color: #3a87ad; background-color: #d9edf7; border-color: #bce9f1'>Kqlmagic&nbsppackage&nbspis&nbspupdated&nbspfrequently.&nbspRun&nbsp&apos;!pip&nbspinstall&nbspKqlmagic&nbsp--no-cache-dir&nbsp--upgrade&apos;&nbspto&nbspuse&nbspthe&nbsplatest&nbspversion.<br>Kqlmagic&nbspversion:&nbsp0.1.75,&nbspsource:&nbsphttps://github.com/Microsoft/jupyter-Kqlmagic</p></div>\n",
       "        </body>\n",
       "        </html>"
      ],
      "text/plain": [
       "<IPython.core.display.HTML object>"
      ]
     },
     "metadata": {},
     "output_type": "display_data"
    },
    {
     "data": {
      "text/html": [
       "<html>\n",
       "        <head>\n",
       "        \n",
       "        </head>\n",
       "        <body>\n",
       "        <div><p style='padding: 10px; color: #8a6d3b; background-color: #fcf8e3; border-color: #faebcc'>You&nbspare&nbspusing&nbspKqlmagic&nbspversion&nbsp0.1.75,&nbsphowever&nbspversion&nbsp0.1.86&nbspis&nbspavailable.&nbspYou&nbspshould&nbspconsider&nbspupgrading,&nbspexecute&nbsp&apos;!pip&nbspinstall&nbspKqlmagic&nbsp--no-cache-dir&nbsp--upgrade&apos;.</p></div>\n",
       "        </body>\n",
       "        </html>"
      ],
      "text/plain": [
       "<IPython.core.display.HTML object>"
      ]
     },
     "metadata": {},
     "output_type": "display_data"
    },
    {
     "data": {
      "application/javascript": [
       "try {IPython.notebook.kernel.reconnect();} catch(err) {;}"
      ],
      "text/plain": [
       "<IPython.core.display.Javascript object>"
      ]
     },
     "metadata": {},
     "output_type": "display_data"
    },
    {
     "data": {
      "application/javascript": [
       "try {IPython.notebook.kernel.execute(\"NOTEBOOK_URL = '\" + window.location + \"'\");} catch(err) {;}"
      ],
      "text/plain": [
       "<IPython.core.display.Javascript object>"
      ]
     },
     "metadata": {},
     "output_type": "display_data"
    }
   ],
   "source": [
    "%reload_ext Kqlmagic"
   ]
  },
  {
   "cell_type": "code",
   "execution_count": 3,
   "metadata": {},
   "outputs": [
    {
     "data": {
      "text/html": [
       "<!DOCTYPE html>\n",
       "            <html><body>\n",
       "\n",
       "            <button onclick=\"this.style.visibility='visible';kql_MagicLaunchWindowFunction('Kqlmagic_temp_files/_demodb_at_demotest.westus_schema.html','fullscreen=no,directories=no,location=no,menubar=no,resizable=yes,scrollbars=yes,status=no,titlebar=no,toolbar=no,','_demodb_at_demotest.westus_schema','')\">popup schema demodb@demotest.westus</button>\n",
       "\n",
       "            <script>\n",
       "\n",
       "            function kql_MagicLaunchWindowFunction(file_path, window_params, window_name, notebooks_host) {\n",
       "                var url;\n",
       "                if (file_path.startsWith('http')) {\n",
       "                    url = file_path;\n",
       "                } else {\n",
       "                    var base_url = '';\n",
       "\n",
       "                    // check if azure notebook\n",
       "                    var azure_host = (notebooks_host == null || notebooks_host.length == 0) ? 'https://notebooks.azure.com' : notebooks_host;\n",
       "                    var start = azure_host.search('//');\n",
       "                    var azure_host_suffix = '.' + azure_host.substring(start+2);\n",
       "\n",
       "                    var loc = String(window.location);\n",
       "                    var end = loc.search(azure_host_suffix);\n",
       "                    start = loc.search('//');\n",
       "                    if (start > 0 && end > 0) {\n",
       "                        var parts = loc.substring(start+2, end).split('-');\n",
       "                        if (parts.length == 2) {\n",
       "                            var library = parts[0];\n",
       "                            var user = parts[1];\n",
       "                            base_url = azure_host + '/api/user/' +user+ '/library/' +library+ '/html/';\n",
       "                        }\n",
       "                    }\n",
       "\n",
       "                    // check if local jupyter lab\n",
       "                    if (base_url.length == 0) {\n",
       "                        var configDataScipt  = document.getElementById('jupyter-config-data');\n",
       "                        if (configDataScipt != null) {\n",
       "                            var jupyterConfigData = JSON.parse(configDataScipt.textContent);\n",
       "                            if (jupyterConfigData['appName'] == 'JupyterLab' && jupyterConfigData['serverRoot'] != null &&  jupyterConfigData['treeUrl'] != null) {\n",
       "                                var basePath = '/notebooks/Development/aspatil/Secureworld' + '/';\n",
       "                                if (basePath.startsWith(jupyterConfigData['serverRoot'])) {\n",
       "                                    base_url = '/files/' + basePath.substring(jupyterConfigData['serverRoot'].length+1);\n",
       "                                }\n",
       "                            } \n",
       "                        }\n",
       "                    }\n",
       "\n",
       "                    // assume local jupyter notebook\n",
       "                    if (base_url.length == 0) {\n",
       "\n",
       "                        var parts = loc.split('/');\n",
       "                        parts.pop();\n",
       "                        base_url = parts.join('/') + '/';\n",
       "                    }\n",
       "                    url = base_url + file_path;\n",
       "                }\n",
       "\n",
       "                window.focus();\n",
       "                var w = screen.width / 2;\n",
       "                var h = screen.height / 2;\n",
       "                params = 'width='+w+',height='+h;\n",
       "                kql_Magic__demodb_at_demotest.westus_schema = window.open(url, window_name, window_params + params);\n",
       "            }\n",
       "            </script>\n",
       "\n",
       "            </body></html>"
      ],
      "text/plain": [
       "<IPython.core.display.HTML object>"
      ]
     },
     "metadata": {},
     "output_type": "display_data"
    },
    {
     "data": {
      "application/javascript": [
       "try {IPython.notebook.kernel.reconnect();} catch(err) {;}"
      ],
      "text/plain": [
       "<IPython.core.display.Javascript object>"
      ]
     },
     "metadata": {},
     "output_type": "display_data"
    }
   ],
   "source": [
    "######################################################\n",
    "##              AUTHENTICATION                      ##\n",
    "######################################################\n",
    "\n",
    "kustocluster = 'demotest.westus'\n",
    "kustodatabase = \"demodb\"\n",
    "\n",
    "#AAD Tenant \n",
    "aadtenant = \"<insert tenant id>\"\n",
    "\n",
    "# AppId to query Kusto Cluster.\n",
    "client_id = '<insert client id here>'\n",
    "\n",
    "#retrive client_secret\n",
    "client_secret='<insert client secret here>'\n",
    "\n",
    "#Authntication via AppID for non inteactive authentication.\n",
    "%kql azure_data-Explorer://tenant=aadtenant;clientid=client_id;clientsecret=client_secret;cluster=kustocluster;database=kustodatabase"
   ]
  },
  {
   "cell_type": "markdown",
   "metadata": {},
   "source": [
    "<br>For demo purposes, already aggregated dataset with distinct host count is ingested into kusto Table WinLogon\n",
    "<br>Failed logon query against your entire Logon dataset with distint count may look like below. \n",
    "<br>4625 Event Id indicates failed logons"
   ]
  },
  {
   "cell_type": "code",
   "execution_count": 4,
   "metadata": {},
   "outputs": [],
   "source": [
    "#%%kql\n",
    "#let _startdate = start_datetime;\n",
    "#let _enddate = end_datetime;\n",
    "# WindowsLogTable \n",
    "#| where startdate < _startdate and enddate > _enddate\n",
    "#| where EventId == \"Microsoft-Windows-Security-Auditing:4625\"\n",
    "#| summarize LogonCount=count(),SourceCount=dcount(sourceAddress), HostCount=dcount(destinationAddress) by AccountName,Date"
   ]
  },
  {
   "cell_type": "code",
   "execution_count": 5,
   "metadata": {},
   "outputs": [
    {
     "data": {
      "text/html": [
       "<html>\n",
       "        <head>\n",
       "        \n",
       "        </head>\n",
       "        <body>\n",
       "        <div><p style='padding: 10px; color: #3a87ad; background-color: #d9edf7; border-color: #bce9f1'>&nbsp*&nbspdemodb@demotest.westus</p></div>\n",
       "        </body>\n",
       "        </html>"
      ],
      "text/plain": [
       "<IPython.core.display.HTML object>"
      ]
     },
     "metadata": {},
     "output_type": "display_data"
    },
    {
     "data": {
      "text/html": [
       "<html>\n",
       "        <head>\n",
       "        \n",
       "        </head>\n",
       "        <body>\n",
       "        <table>\n",
       "    <tr>\n",
       "        <th>Date</th>\n",
       "        <th>AccountName</th>\n",
       "        <th>SourceHostCount</th>\n",
       "        <th>DestinationHostCount</th>\n",
       "        <th>LogonCount</th>\n",
       "    </tr>\n",
       "    <tr>\n",
       "        <td>3/28/2018</td>\n",
       "        <td>ASHWIN</td>\n",
       "        <td>327</td>\n",
       "        <td>263</td>\n",
       "        <td>46448</td>\n",
       "    </tr>\n",
       "    <tr>\n",
       "        <td>3/29/2018</td>\n",
       "        <td>ASHWIN</td>\n",
       "        <td>320</td>\n",
       "        <td>230</td>\n",
       "        <td>46379</td>\n",
       "    </tr>\n",
       "    <tr>\n",
       "        <td>3/30/2018</td>\n",
       "        <td>ASHWIN</td>\n",
       "        <td>352</td>\n",
       "        <td>245</td>\n",
       "        <td>44951</td>\n",
       "    </tr>\n",
       "    <tr>\n",
       "        <td>3/31/2018</td>\n",
       "        <td>ASHWIN</td>\n",
       "        <td>343</td>\n",
       "        <td>261</td>\n",
       "        <td>44347</td>\n",
       "    </tr>\n",
       "    <tr>\n",
       "        <td>4/1/2018</td>\n",
       "        <td>ASHWIN</td>\n",
       "        <td>289</td>\n",
       "        <td>226</td>\n",
       "        <td>44971</td>\n",
       "    </tr>\n",
       "    <tr>\n",
       "        <td>4/4/2018</td>\n",
       "        <td>ASHWIN</td>\n",
       "        <td>282</td>\n",
       "        <td>219</td>\n",
       "        <td>45426</td>\n",
       "    </tr>\n",
       "    <tr>\n",
       "        <td>4/5/2018</td>\n",
       "        <td>ASHWIN</td>\n",
       "        <td>356</td>\n",
       "        <td>243</td>\n",
       "        <td>44214</td>\n",
       "    </tr>\n",
       "    <tr>\n",
       "        <td>4/6/2018</td>\n",
       "        <td>ASHWIN</td>\n",
       "        <td>24</td>\n",
       "        <td>21</td>\n",
       "        <td>28244</td>\n",
       "    </tr>\n",
       "    <tr>\n",
       "        <td>3/28/2018</td>\n",
       "        <td>ERIC</td>\n",
       "        <td>159</td>\n",
       "        <td>154</td>\n",
       "        <td>10301</td>\n",
       "    </tr>\n",
       "    <tr>\n",
       "        <td>3/29/2018</td>\n",
       "        <td>ERIC</td>\n",
       "        <td>256</td>\n",
       "        <td>156</td>\n",
       "        <td>11770</td>\n",
       "    </tr>\n",
       "    <tr>\n",
       "        <td>3/30/2018</td>\n",
       "        <td>ERIC</td>\n",
       "        <td>318</td>\n",
       "        <td>155</td>\n",
       "        <td>17306</td>\n",
       "    </tr>\n",
       "    <tr>\n",
       "        <td>3/31/2018</td>\n",
       "        <td>ERIC</td>\n",
       "        <td>300</td>\n",
       "        <td>155</td>\n",
       "        <td>12039</td>\n",
       "    </tr>\n",
       "    <tr>\n",
       "        <td>4/1/2018</td>\n",
       "        <td>ERIC</td>\n",
       "        <td>245</td>\n",
       "        <td>154</td>\n",
       "        <td>7134</td>\n",
       "    </tr>\n",
       "    <tr>\n",
       "        <td>4/5/2018</td>\n",
       "        <td>ERIC</td>\n",
       "        <td>208</td>\n",
       "        <td>155</td>\n",
       "        <td>12189</td>\n",
       "    </tr>\n",
       "    <tr>\n",
       "        <td>4/6/2018</td>\n",
       "        <td>ERIC</td>\n",
       "        <td>222</td>\n",
       "        <td>153</td>\n",
       "        <td>15110</td>\n",
       "    </tr>\n",
       "    <tr>\n",
       "        <td>4/7/2018</td>\n",
       "        <td>ERIC</td>\n",
       "        <td>70</td>\n",
       "        <td>67</td>\n",
       "        <td>9506</td>\n",
       "    </tr>\n",
       "    <tr>\n",
       "        <td>3/28/2018</td>\n",
       "        <td>JAMES</td>\n",
       "        <td>8497</td>\n",
       "        <td>10046</td>\n",
       "        <td>7792</td>\n",
       "    </tr>\n",
       "    <tr>\n",
       "        <td>3/29/2018</td>\n",
       "        <td>JAMES</td>\n",
       "        <td>8247</td>\n",
       "        <td>10392</td>\n",
       "        <td>7529</td>\n",
       "    </tr>\n",
       "    <tr>\n",
       "        <td>3/30/2018</td>\n",
       "        <td>JAMES</td>\n",
       "        <td>7514</td>\n",
       "        <td>9669</td>\n",
       "        <td>7265</td>\n",
       "    </tr>\n",
       "    <tr>\n",
       "        <td>3/31/2018</td>\n",
       "        <td>JAMES</td>\n",
       "        <td>8040</td>\n",
       "        <td>10467</td>\n",
       "        <td>7991</td>\n",
       "    </tr>\n",
       "    <tr>\n",
       "        <td>4/1/2018</td>\n",
       "        <td>JAMES</td>\n",
       "        <td>8971</td>\n",
       "        <td>10182</td>\n",
       "        <td>7866</td>\n",
       "    </tr>\n",
       "    <tr>\n",
       "        <td>4/6/2018</td>\n",
       "        <td>JAMES</td>\n",
       "        <td>6444</td>\n",
       "        <td>9534</td>\n",
       "        <td>8034</td>\n",
       "    </tr>\n",
       "    <tr>\n",
       "        <td>4/7/2018</td>\n",
       "        <td>JAMES</td>\n",
       "        <td>7189</td>\n",
       "        <td>9823</td>\n",
       "        <td>7272</td>\n",
       "    </tr>\n",
       "    <tr>\n",
       "        <td>4/8/2018</td>\n",
       "        <td>JAMES</td>\n",
       "        <td>4150</td>\n",
       "        <td>6763</td>\n",
       "        <td>3942</td>\n",
       "    </tr>\n",
       "    <tr>\n",
       "        <td>3/28/2018</td>\n",
       "        <td>SRVACCNT-01</td>\n",
       "        <td>20728</td>\n",
       "        <td>7301</td>\n",
       "        <td>154039</td>\n",
       "    </tr>\n",
       "    <tr>\n",
       "        <td>3/29/2018</td>\n",
       "        <td>SRVACCNT-01</td>\n",
       "        <td>23032</td>\n",
       "        <td>8145</td>\n",
       "        <td>150654</td>\n",
       "    </tr>\n",
       "    <tr>\n",
       "        <td>3/30/2018</td>\n",
       "        <td>SRVACCNT-01</td>\n",
       "        <td>19451</td>\n",
       "        <td>7365</td>\n",
       "        <td>155822</td>\n",
       "    </tr>\n",
       "    <tr>\n",
       "        <td>3/31/2018</td>\n",
       "        <td>SRVACCNT-01</td>\n",
       "        <td>22033</td>\n",
       "        <td>8275</td>\n",
       "        <td>133267</td>\n",
       "    </tr>\n",
       "    <tr>\n",
       "        <td>4/1/2018</td>\n",
       "        <td>SRVACCNT-01</td>\n",
       "        <td>18460</td>\n",
       "        <td>7469</td>\n",
       "        <td>195691</td>\n",
       "    </tr>\n",
       "    <tr>\n",
       "        <td>4/2/2018</td>\n",
       "        <td>SRVACCNT-01</td>\n",
       "        <td>450</td>\n",
       "        <td>734</td>\n",
       "        <td>100</td>\n",
       "    </tr>\n",
       "    <tr>\n",
       "        <td>4/3/2018</td>\n",
       "        <td>SRVACCNT-01</td>\n",
       "        <td>410</td>\n",
       "        <td>430</td>\n",
       "        <td>2300</td>\n",
       "    </tr>\n",
       "    <tr>\n",
       "        <td>4/4/2018</td>\n",
       "        <td>SRVACCNT-01</td>\n",
       "        <td>19872</td>\n",
       "        <td>7335</td>\n",
       "        <td>1200</td>\n",
       "    </tr>\n",
       "    <tr>\n",
       "        <td>3/28/2018</td>\n",
       "        <td>SRVACCNT-02</td>\n",
       "        <td>16897</td>\n",
       "        <td>19178</td>\n",
       "        <td>99996</td>\n",
       "    </tr>\n",
       "    <tr>\n",
       "        <td>3/29/2018</td>\n",
       "        <td>SRVACCNT-02</td>\n",
       "        <td>22059</td>\n",
       "        <td>20262</td>\n",
       "        <td>105996</td>\n",
       "    </tr>\n",
       "    <tr>\n",
       "        <td>3/30/2018</td>\n",
       "        <td>SRVACCNT-02</td>\n",
       "        <td>26188</td>\n",
       "        <td>19363</td>\n",
       "        <td>82447</td>\n",
       "    </tr>\n",
       "    <tr>\n",
       "        <td>3/31/2018</td>\n",
       "        <td>SRVACCNT-02</td>\n",
       "        <td>21167</td>\n",
       "        <td>19916</td>\n",
       "        <td>104488</td>\n",
       "    </tr>\n",
       "    <tr>\n",
       "        <td>4/1/2018</td>\n",
       "        <td>SRVACCNT-02</td>\n",
       "        <td>23983</td>\n",
       "        <td>19294</td>\n",
       "        <td>142081</td>\n",
       "    </tr>\n",
       "    <tr>\n",
       "        <td>4/2/2018</td>\n",
       "        <td>SRVACCNT-02</td>\n",
       "        <td>22853</td>\n",
       "        <td>20039</td>\n",
       "        <td>159765</td>\n",
       "    </tr>\n",
       "    <tr>\n",
       "        <td>4/3/2018</td>\n",
       "        <td>SRVACCNT-02</td>\n",
       "        <td>24730</td>\n",
       "        <td>19397</td>\n",
       "        <td>133383</td>\n",
       "    </tr>\n",
       "    <tr>\n",
       "        <td>4/4/2018</td>\n",
       "        <td>SRVACCNT-02</td>\n",
       "        <td>120</td>\n",
       "        <td>890</td>\n",
       "        <td>1200</td>\n",
       "    </tr>\n",
       "    <tr>\n",
       "        <td>4/5/2018</td>\n",
       "        <td>SRVACCNT-02</td>\n",
       "        <td>100</td>\n",
       "        <td>1200</td>\n",
       "        <td>3200</td>\n",
       "    </tr>\n",
       "</table>\n",
       "        </body>\n",
       "        </html>"
      ],
      "text/plain": [
       "<IPython.core.display.HTML object>"
      ]
     },
     "metadata": {},
     "output_type": "display_data"
    },
    {
     "data": {
      "text/html": [
       "<html>\n",
       "        <head>\n",
       "        \n",
       "        </head>\n",
       "        <body>\n",
       "        <div><p style='padding: 10px; color: #3a87ad; background-color: #d9edf7; border-color: #bce9f1'>Done&nbsp(00:00.644):&nbsp41&nbsprecords</p></div>\n",
       "        </body>\n",
       "        </html>"
      ],
      "text/plain": [
       "<IPython.core.display.HTML object>"
      ]
     },
     "metadata": {},
     "output_type": "display_data"
    },
    {
     "data": {
      "text/html": [],
      "text/plain": [
       "[{'Date': '3/28/2018', 'SourceHostCount': 327, 'AccountName': 'ASHWIN', 'DestinationHostCount': 263, 'LogonCount': 46448},\n",
       " {'Date': '3/29/2018', 'SourceHostCount': 320, 'AccountName': 'ASHWIN', 'DestinationHostCount': 230, 'LogonCount': 46379},\n",
       " {'Date': '3/30/2018', 'SourceHostCount': 352, 'AccountName': 'ASHWIN', 'DestinationHostCount': 245, 'LogonCount': 44951},\n",
       " {'Date': '3/31/2018', 'SourceHostCount': 343, 'AccountName': 'ASHWIN', 'DestinationHostCount': 261, 'LogonCount': 44347},\n",
       " {'Date': '4/1/2018', 'SourceHostCount': 289, 'AccountName': 'ASHWIN', 'DestinationHostCount': 226, 'LogonCount': 44971},\n",
       " {'Date': '4/4/2018', 'SourceHostCount': 282, 'AccountName': 'ASHWIN', 'DestinationHostCount': 219, 'LogonCount': 45426},\n",
       " {'Date': '4/5/2018', 'SourceHostCount': 356, 'AccountName': 'ASHWIN', 'DestinationHostCount': 243, 'LogonCount': 44214},\n",
       " {'Date': '4/6/2018', 'SourceHostCount': 24, 'AccountName': 'ASHWIN', 'DestinationHostCount': 21, 'LogonCount': 28244},\n",
       " {'Date': '3/28/2018', 'SourceHostCount': 159, 'AccountName': 'ERIC', 'DestinationHostCount': 154, 'LogonCount': 10301},\n",
       " {'Date': '3/29/2018', 'SourceHostCount': 256, 'AccountName': 'ERIC', 'DestinationHostCount': 156, 'LogonCount': 11770},\n",
       " {'Date': '3/30/2018', 'SourceHostCount': 318, 'AccountName': 'ERIC', 'DestinationHostCount': 155, 'LogonCount': 17306},\n",
       " {'Date': '3/31/2018', 'SourceHostCount': 300, 'AccountName': 'ERIC', 'DestinationHostCount': 155, 'LogonCount': 12039},\n",
       " {'Date': '4/1/2018', 'SourceHostCount': 245, 'AccountName': 'ERIC', 'DestinationHostCount': 154, 'LogonCount': 7134},\n",
       " {'Date': '4/5/2018', 'SourceHostCount': 208, 'AccountName': 'ERIC', 'DestinationHostCount': 155, 'LogonCount': 12189},\n",
       " {'Date': '4/6/2018', 'SourceHostCount': 222, 'AccountName': 'ERIC', 'DestinationHostCount': 153, 'LogonCount': 15110},\n",
       " {'Date': '4/7/2018', 'SourceHostCount': 70, 'AccountName': 'ERIC', 'DestinationHostCount': 67, 'LogonCount': 9506},\n",
       " {'Date': '3/28/2018', 'SourceHostCount': 8497, 'AccountName': 'JAMES', 'DestinationHostCount': 10046, 'LogonCount': 7792},\n",
       " {'Date': '3/29/2018', 'SourceHostCount': 8247, 'AccountName': 'JAMES', 'DestinationHostCount': 10392, 'LogonCount': 7529},\n",
       " {'Date': '3/30/2018', 'SourceHostCount': 7514, 'AccountName': 'JAMES', 'DestinationHostCount': 9669, 'LogonCount': 7265},\n",
       " {'Date': '3/31/2018', 'SourceHostCount': 8040, 'AccountName': 'JAMES', 'DestinationHostCount': 10467, 'LogonCount': 7991},\n",
       " {'Date': '4/1/2018', 'SourceHostCount': 8971, 'AccountName': 'JAMES', 'DestinationHostCount': 10182, 'LogonCount': 7866},\n",
       " {'Date': '4/6/2018', 'SourceHostCount': 6444, 'AccountName': 'JAMES', 'DestinationHostCount': 9534, 'LogonCount': 8034},\n",
       " {'Date': '4/7/2018', 'SourceHostCount': 7189, 'AccountName': 'JAMES', 'DestinationHostCount': 9823, 'LogonCount': 7272},\n",
       " {'Date': '4/8/2018', 'SourceHostCount': 4150, 'AccountName': 'JAMES', 'DestinationHostCount': 6763, 'LogonCount': 3942},\n",
       " {'Date': '3/28/2018', 'SourceHostCount': 20728, 'AccountName': 'SRVACCNT-01', 'DestinationHostCount': 7301, 'LogonCount': 154039},\n",
       " {'Date': '3/29/2018', 'SourceHostCount': 23032, 'AccountName': 'SRVACCNT-01', 'DestinationHostCount': 8145, 'LogonCount': 150654},\n",
       " {'Date': '3/30/2018', 'SourceHostCount': 19451, 'AccountName': 'SRVACCNT-01', 'DestinationHostCount': 7365, 'LogonCount': 155822},\n",
       " {'Date': '3/31/2018', 'SourceHostCount': 22033, 'AccountName': 'SRVACCNT-01', 'DestinationHostCount': 8275, 'LogonCount': 133267},\n",
       " {'Date': '4/1/2018', 'SourceHostCount': 18460, 'AccountName': 'SRVACCNT-01', 'DestinationHostCount': 7469, 'LogonCount': 195691},\n",
       " {'Date': '4/2/2018', 'SourceHostCount': 450, 'AccountName': 'SRVACCNT-01', 'DestinationHostCount': 734, 'LogonCount': 100},\n",
       " {'Date': '4/3/2018', 'SourceHostCount': 410, 'AccountName': 'SRVACCNT-01', 'DestinationHostCount': 430, 'LogonCount': 2300},\n",
       " {'Date': '4/4/2018', 'SourceHostCount': 19872, 'AccountName': 'SRVACCNT-01', 'DestinationHostCount': 7335, 'LogonCount': 1200},\n",
       " {'Date': '3/28/2018', 'SourceHostCount': 16897, 'AccountName': 'SRVACCNT-02', 'DestinationHostCount': 19178, 'LogonCount': 99996},\n",
       " {'Date': '3/29/2018', 'SourceHostCount': 22059, 'AccountName': 'SRVACCNT-02', 'DestinationHostCount': 20262, 'LogonCount': 105996},\n",
       " {'Date': '3/30/2018', 'SourceHostCount': 26188, 'AccountName': 'SRVACCNT-02', 'DestinationHostCount': 19363, 'LogonCount': 82447},\n",
       " {'Date': '3/31/2018', 'SourceHostCount': 21167, 'AccountName': 'SRVACCNT-02', 'DestinationHostCount': 19916, 'LogonCount': 104488},\n",
       " {'Date': '4/1/2018', 'SourceHostCount': 23983, 'AccountName': 'SRVACCNT-02', 'DestinationHostCount': 19294, 'LogonCount': 142081},\n",
       " {'Date': '4/2/2018', 'SourceHostCount': 22853, 'AccountName': 'SRVACCNT-02', 'DestinationHostCount': 20039, 'LogonCount': 159765},\n",
       " {'Date': '4/3/2018', 'SourceHostCount': 24730, 'AccountName': 'SRVACCNT-02', 'DestinationHostCount': 19397, 'LogonCount': 133383},\n",
       " {'Date': '4/4/2018', 'SourceHostCount': 120, 'AccountName': 'SRVACCNT-02', 'DestinationHostCount': 890, 'LogonCount': 1200},\n",
       " {'Date': '4/5/2018', 'SourceHostCount': 100, 'AccountName': 'SRVACCNT-02', 'DestinationHostCount': 1200, 'LogonCount': 3200}]"
      ]
     },
     "execution_count": 5,
     "metadata": {},
     "output_type": "execute_result"
    }
   ],
   "source": [
    "%%kql\n",
    "WinLogon"
   ]
  },
  {
   "cell_type": "markdown",
   "metadata": {},
   "source": [
    "## Converting the result to dataframe"
   ]
  },
  {
   "cell_type": "code",
   "execution_count": 6,
   "metadata": {},
   "outputs": [],
   "source": [
    "df = _.to_dataframe()"
   ]
  },
  {
   "cell_type": "markdown",
   "metadata": {},
   "source": [
    "### Importing python libraries and set global styling parameters"
   ]
  },
  {
   "cell_type": "code",
   "execution_count": 7,
   "metadata": {},
   "outputs": [],
   "source": [
    "%matplotlib inline\n",
    "\n",
    "import matplotlib\n",
    "import pandas as pd\n",
    "import numpy as np\n",
    "import matplotlib.pyplot as plt\n",
    "import seaborn as sns; sns.set()\n",
    "pd.set_option('display.max_colwidth', -1)"
   ]
  },
  {
   "cell_type": "markdown",
   "metadata": {},
   "source": [
    "### Printing Dataset schema"
   ]
  },
  {
   "cell_type": "code",
   "execution_count": 8,
   "metadata": {},
   "outputs": [
    {
     "name": "stdout",
     "output_type": "stream",
     "text": [
      "<class 'pandas.core.frame.DataFrame'>\n",
      "RangeIndex: 41 entries, 0 to 40\n",
      "Data columns (total 5 columns):\n",
      "Date                    41 non-null object\n",
      "AccountName             41 non-null object\n",
      "SourceHostCount         41 non-null int64\n",
      "DestinationHostCount    41 non-null int64\n",
      "LogonCount              41 non-null int64\n",
      "dtypes: int64(3), object(2)\n",
      "memory usage: 1.7+ KB\n"
     ]
    }
   ],
   "source": [
    "df.info()"
   ]
  },
  {
   "cell_type": "markdown",
   "metadata": {},
   "source": [
    "### Display Sample records"
   ]
  },
  {
   "cell_type": "code",
   "execution_count": 9,
   "metadata": {},
   "outputs": [
    {
     "data": {
      "text/html": [
       "<div>\n",
       "<style scoped>\n",
       "    .dataframe tbody tr th:only-of-type {\n",
       "        vertical-align: middle;\n",
       "    }\n",
       "\n",
       "    .dataframe tbody tr th {\n",
       "        vertical-align: top;\n",
       "    }\n",
       "\n",
       "    .dataframe thead th {\n",
       "        text-align: right;\n",
       "    }\n",
       "</style>\n",
       "<table border=\"1\" class=\"dataframe\">\n",
       "  <thead>\n",
       "    <tr style=\"text-align: right;\">\n",
       "      <th></th>\n",
       "      <th>Date</th>\n",
       "      <th>AccountName</th>\n",
       "      <th>SourceHostCount</th>\n",
       "      <th>DestinationHostCount</th>\n",
       "      <th>LogonCount</th>\n",
       "    </tr>\n",
       "  </thead>\n",
       "  <tbody>\n",
       "    <tr>\n",
       "      <th>0</th>\n",
       "      <td>3/28/2018</td>\n",
       "      <td>ASHWIN</td>\n",
       "      <td>327</td>\n",
       "      <td>263</td>\n",
       "      <td>46448</td>\n",
       "    </tr>\n",
       "    <tr>\n",
       "      <th>1</th>\n",
       "      <td>3/29/2018</td>\n",
       "      <td>ASHWIN</td>\n",
       "      <td>320</td>\n",
       "      <td>230</td>\n",
       "      <td>46379</td>\n",
       "    </tr>\n",
       "    <tr>\n",
       "      <th>2</th>\n",
       "      <td>3/30/2018</td>\n",
       "      <td>ASHWIN</td>\n",
       "      <td>352</td>\n",
       "      <td>245</td>\n",
       "      <td>44951</td>\n",
       "    </tr>\n",
       "    <tr>\n",
       "      <th>3</th>\n",
       "      <td>3/31/2018</td>\n",
       "      <td>ASHWIN</td>\n",
       "      <td>343</td>\n",
       "      <td>261</td>\n",
       "      <td>44347</td>\n",
       "    </tr>\n",
       "    <tr>\n",
       "      <th>4</th>\n",
       "      <td>4/1/2018</td>\n",
       "      <td>ASHWIN</td>\n",
       "      <td>289</td>\n",
       "      <td>226</td>\n",
       "      <td>44971</td>\n",
       "    </tr>\n",
       "  </tbody>\n",
       "</table>\n",
       "</div>"
      ],
      "text/plain": [
       "        Date AccountName  SourceHostCount  DestinationHostCount  LogonCount\n",
       "0  3/28/2018  ASHWIN      327              263                   46448     \n",
       "1  3/29/2018  ASHWIN      320              230                   46379     \n",
       "2  3/30/2018  ASHWIN      352              245                   44951     \n",
       "3  3/31/2018  ASHWIN      343              261                   44347     \n",
       "4  4/1/2018   ASHWIN      289              226                   44971     "
      ]
     },
     "execution_count": 9,
     "metadata": {},
     "output_type": "execute_result"
    }
   ],
   "source": [
    "df.head(5)"
   ]
  },
  {
   "cell_type": "markdown",
   "metadata": {},
   "source": [
    "## Plotting HeatMap for failed logons using seaborn library"
   ]
  },
  {
   "cell_type": "code",
   "execution_count": 10,
   "metadata": {},
   "outputs": [
    {
     "data": {
      "image/png": "[encoded data removed]",
      "text/plain": [
       "<matplotlib.figure.Figure at 0x7f60e8396710>"
      ]
     },
     "metadata": {},
     "output_type": "display_data"
    }
   ],
   "source": [
    "df_pivot = df.pivot(index='Date', columns='AccountName', values='LogonCount').fillna(0)\n",
    "f, ax = plt.subplots(figsize=(16, 12))\n",
    "hm1 = sns.heatmap(df_pivot.T,cmap=\"YlGnBu\",ax=ax)"
   ]
  },
  {
   "cell_type": "markdown",
   "metadata": {},
   "source": [
    "## Plotting Scatterplot for failed logons using seaborn library"
   ]
  },
  {
   "cell_type": "code",
   "execution_count": 11,
   "metadata": {},
   "outputs": [
    {
     "data": {
      "text/plain": [
       "<seaborn.axisgrid.FacetGrid at 0x7f60deb30ef0>"
      ]
     },
     "execution_count": 11,
     "metadata": {},
     "output_type": "execute_result"
    },
    {
     "data": {
      "image/png": "[encoded data removed]",
      "text/plain": [
       "<matplotlib.figure.Figure at 0x7f60deb307f0>"
      ]
     },
     "metadata": {},
     "output_type": "display_data"
    }
   ],
   "source": [
    "sns.lmplot(x='DestinationHostCount', y='SourceHostCount', data=df,\n",
    "fit_reg=False,hue='AccountName', height=6, aspect=2)"
   ]
  },
  {
   "cell_type": "markdown",
   "metadata": {},
   "source": [
    "### Observations:\n",
    "\n",
    "There is inconsistent faied logons observed with account `SRVACCNT-01` and `SRVACCNT-02` which can be further investigated for any possible successful bruteforce activity.\n",
    "- From the heatmaps, high number of failed logons were observed in first 4-6 days for 2 accounts and later it significantly reduced.  \n",
    "- Scatterplot also shows,  failed logons were observed for `SRVACCNT-01` and `SRVACCNT-02` from high number of source addresses as compared to other accounts or for same accounts for the period of 7 days.\n",
    "\n",
    "### Next Steps: \n",
    "### Each of below step can be subsequent individual parameterized queries against entire logon dataset for a week around the spike \n",
    " - Investigate the the accounts which appears to be service account - `SRVACCNT01` and `SRVACCNT-02`.\n",
    " - Load the logon activity for both accounts prior and after the logon trend change. you can have parameterized query for the accounts against logondataset to pull and display the details.\n",
    " - Check the succesful logons observed from the accounts and investigate activity observed from the accounts for any suspicious activities e.g. process execution, group changes, scheduled tasks, service installations etc. This can also be achieved with follow-up query for all events observed from the accounts for the mentioned days in next cell.\n",
    " - Based on the displayed cells output and correlating logs, you can conclude if it is malicious activity or not."
   ]
  }
 ],
 "metadata": {
  "kernelspec": {
   "display_name": "Python [conda env:py35]",
   "language": "python",
   "name": "conda-env-py35-py"
  },
  "language_info": {
   "codemirror_mode": {
    "name": "ipython",
    "version": 3
   },
   "file_extension": ".py",
   "mimetype": "text/x-python",
   "name": "python",
   "nbconvert_exporter": "python",
   "pygments_lexer": "ipython3",
   "version": "3.5.4"
  }
 },
 "nbformat": 4,
 "nbformat_minor": 2
}
